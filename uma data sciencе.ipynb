{
 "cells": [
  {
   "cell_type": "code",
   "execution_count": 1,
   "metadata": {},
   "outputs": [],
   "source": [
    "import pandas as pd\n",
    "import numpy as np\n",
    "import xgboost as xgb\n",
    "from sklearn.model_selection import train_test_split\n",
    "from sklearn.feature_selection import SelectFromModel\n",
    "from sklearn.metrics import roc_auc_score, accuracy_score, precision_score, recall_score, f1_score\n",
    "from sklearn.model_selection import cross_validate\n",
    "from sklearn.ensemble import RandomForestClassifier\n",
    "import matplotlib.pyplot as plt\n",
    "%matplotlib inline"
   ]
  },
  {
   "cell_type": "code",
   "execution_count": 117,
   "metadata": {},
   "outputs": [],
   "source": [
    "df = pd.read_csv('C:\\\\Users\\\\user\\\\Desktop\\\\uma\\\\train\\\\TRAIN_PREPARED.csv',parse_dates = ['cut_date','first_date','last_date'])\n",
    "target = df.label"
   ]
  },
  {
   "cell_type": "code",
   "execution_count": 120,
   "metadata": {},
   "outputs": [
    {
     "data": {
      "text/plain": [
       "0.0    133548\n",
       "1.0     46701\n",
       "Name: label, dtype: int64"
      ]
     },
     "execution_count": 120,
     "metadata": {},
     "output_type": "execute_result"
    }
   ],
   "source": [
    "# only 25% of data has label 1,so this dataset is slightly Imbalanced \n",
    "df.label.value_counts()"
   ]
  },
  {
   "cell_type": "code",
   "execution_count": 3,
   "metadata": {},
   "outputs": [],
   "source": [
    "d = df.last_date - df.first_date\n",
    "d = d.dt.days\n",
    "df.drop(columns=['cut_date','first_date','last_date','user','label'],inplace = True)\n",
    "df['days'] = d"
   ]
  },
  {
   "cell_type": "code",
   "execution_count": 103,
   "metadata": {},
   "outputs": [
    {
     "name": "stdout",
     "output_type": "stream",
     "text": [
      "1.0    106890\n",
      "0.0    106890\n",
      "Name: label, dtype: int64\n"
     ]
    }
   ],
   "source": [
    "X_train, X_test, y_train, y_test = train_test_split(df, target, random_state=42,train_size =0.8)\n",
    "#slightly fix Imbalanced dataest\n",
    "from sklearn.utils import resample\n",
    "# concatenate our training data back together\n",
    "X = pd.concat([X_train, y_train], axis=1)\n",
    "# separate minority and majority classes\n",
    "not_fraud = X[X.label==0]\n",
    "fraud = X[X.label==1]\n",
    "\n",
    "# upsample minority\n",
    "fraud_upsampled = resample(fraud,\n",
    "                          replace=True, # sample with replacement\n",
    "                          n_samples=len(not_fraud), # match number in majority class\n",
    "                          random_state=27) # reproducible results\n",
    "upsampled = pd.concat([not_fraud, fraud_upsampled])\n",
    "print(upsampled.label.value_counts())\n",
    "y_train = upsampled.label\n",
    "X_train = upsampled.drop('label', axis=1)"
   ]
  },
  {
   "cell_type": "code",
   "execution_count": 104,
   "metadata": {},
   "outputs": [
    {
     "name": "stdout",
     "output_type": "stream",
     "text": [
      "[0]\tvalidation_0-auc:0.660899\tvalidation_0-error:0.392954\tvalidation_0-error@0.6:0.260527\n",
      "[1]\tvalidation_0-auc:0.663641\tvalidation_0-error:0.380499\tvalidation_0-error@0.6:0.260527\n",
      "[2]\tvalidation_0-auc:0.664504\tvalidation_0-error:0.388904\tvalidation_0-error@0.6:0.260527\n",
      "[3]\tvalidation_0-auc:0.668513\tvalidation_0-error:0.377559\tvalidation_0-error@0.6:0.260499\n",
      "[4]\tvalidation_0-auc:0.670752\tvalidation_0-error:0.379029\tvalidation_0-error@0.6:0.254313\n",
      "[5]\tvalidation_0-auc:0.672382\tvalidation_0-error:0.373176\tvalidation_0-error@0.6:0.253537\n",
      "[6]\tvalidation_0-auc:0.673606\tvalidation_0-error:0.374785\tvalidation_0-error@0.6:0.253481\n",
      "[7]\tvalidation_0-auc:0.674573\tvalidation_0-error:0.370874\tvalidation_0-error@0.6:0.254757\n",
      "[8]\tvalidation_0-auc:0.675399\tvalidation_0-error:0.370846\tvalidation_0-error@0.6:0.255506\n",
      "[9]\tvalidation_0-auc:0.676549\tvalidation_0-error:0.369237\tvalidation_0-error@0.6:0.255839\n",
      "[10]\tvalidation_0-auc:0.678196\tvalidation_0-error:0.366463\tvalidation_0-error@0.6:0.255007\n",
      "[11]\tvalidation_0-auc:0.67855\tvalidation_0-error:0.36835\tvalidation_0-error@0.6:0.2557\n",
      "[12]\tvalidation_0-auc:0.6792\tvalidation_0-error:0.363495\tvalidation_0-error@0.6:0.257143\n",
      "[13]\tvalidation_0-auc:0.679994\tvalidation_0-error:0.365076\tvalidation_0-error@0.6:0.257476\n",
      "[14]\tvalidation_0-auc:0.680975\tvalidation_0-error:0.363606\tvalidation_0-error@0.6:0.259861\n",
      "[15]\tvalidation_0-auc:0.681753\tvalidation_0-error:0.362552\tvalidation_0-error@0.6:0.259889\n",
      "[16]\tvalidation_0-auc:0.68303\tvalidation_0-error:0.363051\tvalidation_0-error@0.6:0.280666\n",
      "[17]\tvalidation_0-auc:0.683714\tvalidation_0-error:0.361637\tvalidation_0-error@0.6:0.282108\n",
      "[18]\tvalidation_0-auc:0.684128\tvalidation_0-error:0.35975\tvalidation_0-error@0.6:0.28147\n",
      "[19]\tvalidation_0-auc:0.685106\tvalidation_0-error:0.358807\tvalidation_0-error@0.6:0.282247\n",
      "Accuracy: 64.12%\n"
     ]
    }
   ],
   "source": [
    "#feature selection\n",
    "xgb_model = xgb.XGBClassifier(objective=\"binary:logistic\", n_estimators=20, \n",
    "                              random_state=42, eval_metric=[\"auc\", \"error\", \"error@0.6\"])\n",
    "\n",
    "\n",
    "xgb_model.fit(X_train, y_train, eval_set=[(X_test, y_test)])\n",
    "\n",
    "y_pred = xgb_model.predict(X_test)\n",
    "accuracy = accuracy_score(y_test, y_pred)\n",
    "print(\"Accuracy: %.2f%%\" % (accuracy * 100.0))"
   ]
  },
  {
   "cell_type": "code",
   "execution_count": 105,
   "metadata": {},
   "outputs": [
    {
     "data": {
      "image/png": "[encoded data removed]",
      "text/plain": [
       "<Figure size 432x288 with 1 Axes>"
      ]
     },
     "metadata": {
      "needs_background": "light"
     },
     "output_type": "display_data"
    }
   ],
   "source": [
    "xgb.plot_importance(xgb_model, max_num_features=15)\n",
    "plt.show()"
   ]
  },
  {
   "cell_type": "code",
   "execution_count": 106,
   "metadata": {},
   "outputs": [],
   "source": [
    "selection = SelectFromModel(xgb_model , threshold=-np.inf, prefit=True,max_features= 11)\n",
    "select_X_train = selection.transform(X_train)\n",
    "select_X_test = selection.transform(X_test)\n",
    "\n"
   ]
  },
  {
   "cell_type": "code",
   "execution_count": null,
   "metadata": {},
   "outputs": [],
   "source": []
  },
  {
   "cell_type": "code",
   "execution_count": 107,
   "metadata": {},
   "outputs": [],
   "source": [
    "random_forest = RandomForestClassifier(n_estimators = 115)\n",
    "random_forest.fit(select_X_train, y_train)\n",
    "y_pred = random_forest.predict(select_X_test)"
   ]
  },
  {
   "cell_type": "code",
   "execution_count": 108,
   "metadata": {},
   "outputs": [
    {
     "name": "stdout",
     "output_type": "stream",
     "text": [
      "Accuracy: 0.8135367545076283\n",
      "roc_auc_score: 0.7648245848128922\n",
      "f1_score: 0.6494942121180519\n"
     ]
    }
   ],
   "source": [
    "from sklearn.metrics import roc_auc_score, accuracy_score, precision_score, recall_score, f1_score\n",
    "print(\"Accuracy:\",accuracy_score(y_test, y_pred))\n",
    "print(\"roc_auc_score:\",roc_auc_score(y_test, y_pred))\n",
    "print(\"f1_score:\",f1_score(y_test, y_pred))"
   ]
  },
  {
   "cell_type": "code",
   "execution_count": 110,
   "metadata": {},
   "outputs": [],
   "source": [
    "df2 = pd.read_csv('C:\\\\Users\\\\user\\\\Desktop\\\\uma\\\\train\\\\TEST_PREPARED.csv',parse_dates = ['cut_date','first_date','last_date'])\n",
    "user = df2.user"
   ]
  },
  {
   "cell_type": "code",
   "execution_count": 111,
   "metadata": {},
   "outputs": [],
   "source": [
    "day = df2.last_date - df2.first_date\n",
    "day = day.dt.days\n",
    "df2.drop(columns=['cut_date','first_date','last_date','user'],inplace = True)\n",
    "df2['days'] = day\n"
   ]
  },
  {
   "cell_type": "code",
   "execution_count": 112,
   "metadata": {},
   "outputs": [],
   "source": [
    "select_pred = selection.transform(df2)"
   ]
  },
  {
   "cell_type": "code",
   "execution_count": 113,
   "metadata": {},
   "outputs": [],
   "source": [
    "y_pred2 = random_forest.predict(select_pred)"
   ]
  },
  {
   "cell_type": "code",
   "execution_count": 114,
   "metadata": {},
   "outputs": [
    {
     "data": {
      "text/html": [
       "<div>\n",
       "<style scoped>\n",
       "    .dataframe tbody tr th:only-of-type {\n",
       "        vertical-align: middle;\n",
       "    }\n",
       "\n",
       "    .dataframe tbody tr th {\n",
       "        vertical-align: top;\n",
       "    }\n",
       "\n",
       "    .dataframe thead th {\n",
       "        text-align: right;\n",
       "    }\n",
       "</style>\n",
       "<table border=\"1\" class=\"dataframe\">\n",
       "  <thead>\n",
       "    <tr style=\"text-align: right;\">\n",
       "      <th></th>\n",
       "      <th>user</th>\n",
       "      <th>pred</th>\n",
       "    </tr>\n",
       "  </thead>\n",
       "  <tbody>\n",
       "    <tr>\n",
       "      <td>0</td>\n",
       "      <td>e98a93bfc7</td>\n",
       "      <td>0.0</td>\n",
       "    </tr>\n",
       "    <tr>\n",
       "      <td>1</td>\n",
       "      <td>d813ccb3f5</td>\n",
       "      <td>0.0</td>\n",
       "    </tr>\n",
       "    <tr>\n",
       "      <td>2</td>\n",
       "      <td>3d07a90a91</td>\n",
       "      <td>1.0</td>\n",
       "    </tr>\n",
       "    <tr>\n",
       "      <td>3</td>\n",
       "      <td>5791e966d8</td>\n",
       "      <td>1.0</td>\n",
       "    </tr>\n",
       "    <tr>\n",
       "      <td>4</td>\n",
       "      <td>d982336d49</td>\n",
       "      <td>0.0</td>\n",
       "    </tr>\n",
       "  </tbody>\n",
       "</table>\n",
       "</div>"
      ],
      "text/plain": [
       "         user  pred\n",
       "0  e98a93bfc7   0.0\n",
       "1  d813ccb3f5   0.0\n",
       "2  3d07a90a91   1.0\n",
       "3  5791e966d8   1.0\n",
       "4  d982336d49   0.0"
      ]
     },
     "execution_count": 114,
     "metadata": {},
     "output_type": "execute_result"
    }
   ],
   "source": [
    "a = pd.Series(y_pred2)\n",
    "frame = { 'user': user, 'pred': a } \n",
    "  \n",
    "result = pd.DataFrame(frame) \n",
    "  \n",
    "result.head()"
   ]
  },
  {
   "cell_type": "code",
   "execution_count": 121,
   "metadata": {},
   "outputs": [],
   "source": [
    "result.to_csv(index=False,path_or_buf ='C:\\\\Users\\\\user\\\\Desktop\\\\uma\\\\train\\\\result.csv')"
   ]
  },
  {
   "cell_type": "code",
   "execution_count": null,
   "metadata": {},
   "outputs": [],
   "source": []
  }
 ],
 "metadata": {
  "kernelspec": {
   "display_name": "Python 3",
   "language": "python",
   "name": "python3"
  },
  "language_info": {
   "codemirror_mode": {
    "name": "ipython",
    "version": 3
   },
   "file_extension": ".py",
   "mimetype": "text/x-python",
   "name": "python",
   "nbconvert_exporter": "python",
   "pygments_lexer": "ipython3",
   "version": "3.7.3"
  }
 },
 "nbformat": 4,
 "nbformat_minor": 2
}
